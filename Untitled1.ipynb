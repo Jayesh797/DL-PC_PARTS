{
 "cells": [
  {
   "cell_type": "code",
   "execution_count": 6,
   "id": "a4b865d0",
   "metadata": {},
   "outputs": [],
   "source": [
    "import os\n",
    "import cv2\n",
    "import numpy as np\n",
    "\n",
    "# Path to the dataset directory\n",
    "dataset_dir = 'pc_parts'\n",
    "\n",
    "# Initialize lists to store images and labels\n",
    "images = []\n",
    "labels = []\n",
    "\n",
    "# Iterate over each folder (class) in the dataset directory\n",
    "for class_name in os.listdir(dataset_dir):\n",
    "    class_dir = os.path.join(dataset_dir, class_name)\n",
    "    # Iterate over each image in the class directory\n",
    "    for filename in os.listdir(class_dir):\n",
    "        img_path = os.path.join(class_dir, filename)\n",
    "        # Read the image using OpenCV\n",
    "        img = cv2.imread(img_path)\n",
    "        # Append the image to the images list\n",
    "        images.append(img)\n",
    "        print(images)\n",
    "        # Append the label (class) to the labels list\n",
    "        labels.append(class_name)\n",
    "\n",
    "# Convert lists to NumPy arrays\n",
    "# images = np.array(images)\n",
    "# labels = np.array(labels)\n",
    "\n",
    "# # Print the number of images and unique labels\n",
    "# print(\"Number of images:\", len(images))\n",
    "# print(\"Unique labels:\", np.unique(labels))\n"
   ]
  },
  {
   "cell_type": "code",
   "execution_count": null,
   "id": "9ca358fa",
   "metadata": {},
   "outputs": [],
   "source": []
  }
 ],
 "metadata": {
  "kernelspec": {
   "display_name": "Python 3 (ipykernel)",
   "language": "python",
   "name": "python3"
  },
  "language_info": {
   "codemirror_mode": {
    "name": "ipython",
    "version": 3
   },
   "file_extension": ".py",
   "mimetype": "text/x-python",
   "name": "python",
   "nbconvert_exporter": "python",
   "pygments_lexer": "ipython3",
   "version": "3.9.16"
  }
 },
 "nbformat": 4,
 "nbformat_minor": 5
}
